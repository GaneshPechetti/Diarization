{
  "nbformat": 4,
  "nbformat_minor": 0,
  "metadata": {
    "colab": {
      "provenance": [],
      "authorship_tag": "ABX9TyNW10dFwXrvuexPGW7nrORr",
      "include_colab_link": true
    },
    "kernelspec": {
      "name": "python3",
      "display_name": "Python 3"
    },
    "language_info": {
      "name": "python"
    }
  },
  "cells": [
    {
      "cell_type": "markdown",
      "metadata": {
        "id": "view-in-github",
        "colab_type": "text"
      },
      "source": [
        "<a href=\"https://colab.research.google.com/github/GaneshPechetti/Diarization/blob/main/Copy_of_Diarization_from_scratch.ipynb\" target=\"_parent\"><img src=\"https://colab.research.google.com/assets/colab-badge.svg\" alt=\"Open In Colab\"/></a>"
      ]
    },
    {
      "cell_type": "markdown",
      "source": [
        "#Segmentation\n",
        ": divide into 3 seconds audio sample with overlap of 500 milliseconds"
      ],
      "metadata": {
        "id": "blV2CW6jjBeU"
      }
    },
    {
      "cell_type": "code",
      "source": [],
      "metadata": {
        "id": "HeLryjStjBBP"
      },
      "execution_count": null,
      "outputs": []
    },
    {
      "cell_type": "markdown",
      "source": [
        "#Extract features from the individual segments"
      ],
      "metadata": {
        "id": "gP5Dlc4-jeBO"
      }
    },
    {
      "cell_type": "code",
      "source": [],
      "metadata": {
        "id": "Ken9461HkGNf"
      },
      "execution_count": null,
      "outputs": []
    },
    {
      "cell_type": "markdown",
      "source": [
        "#From who spoke when blog"
      ],
      "metadata": {
        "id": "Hasi6V6x2L5K"
      }
    },
    {
      "cell_type": "code",
      "source": [
        "git clone https://github.com/resemble-ai/Resemblyzer.git\n",
        "cd Resemblyzer"
      ],
      "metadata": {
        "colab": {
          "base_uri": "https://localhost:8080/",
          "height": 131
        },
        "id": "_eKT8QG82PEX",
        "outputId": "bbd933a0-c5bc-4219-ff7c-c45ea9d02a77"
      },
      "execution_count": 2,
      "outputs": [
        {
          "output_type": "error",
          "ename": "SyntaxError",
          "evalue": "ignored",
          "traceback": [
            "\u001b[0;36m  File \u001b[0;32m\"<ipython-input-2-5a69d7e9e94a>\"\u001b[0;36m, line \u001b[0;32m1\u001b[0m\n\u001b[0;31m    git clone https://github.com/resemble-ai/Resemblyzer.git\u001b[0m\n\u001b[0m        ^\u001b[0m\n\u001b[0;31mSyntaxError\u001b[0m\u001b[0;31m:\u001b[0m invalid syntax\n"
          ]
        }
      ]
    },
    {
      "cell_type": "code",
      "source": [],
      "metadata": {
        "id": "tt-PqsXN2Po1"
      },
      "execution_count": null,
      "outputs": []
    }
  ]
}